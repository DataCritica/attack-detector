{
 "cells": [
  {
   "cell_type": "markdown",
   "metadata": {},
   "source": [
    "### Imports"
   ]
  },
  {
   "cell_type": "code",
   "execution_count": 1,
   "metadata": {},
   "outputs": [],
   "source": [
    "from twarc.client2 import Twarc2\n",
    "from twarc.expansions import ensure_flattened\n",
    "import configparser\n",
    "import datetime\n",
    "import json\n",
    "import pandas as pd"
   ]
  },
  {
   "cell_type": "markdown",
   "metadata": {},
   "source": [
    "### Get API tokens"
   ]
  },
  {
   "cell_type": "code",
   "execution_count": 2,
   "metadata": {},
   "outputs": [],
   "source": [
    "# Create a parser object and disable interpolation\n",
    "parser = configparser.ConfigParser(interpolation=None)\n",
    "# Read data from 'config.ini' file\n",
    "parser.read(\"config.ini\")\n",
    "# Access sections from the configuration file\n",
    "parser.sections()\n",
    "# Get 'bearer_token' from twitter section\n",
    "bearer_token = parser.get('twitter', 'bearer_token')\n",
    "# Create a Twarc2 instance with twitter credentials\n",
    "client = Twarc2(bearer_token = bearer_token)"
   ]
  },
  {
   "cell_type": "markdown",
   "metadata": {},
   "source": [
    "### Search with `twarc2`"
   ]
  },
  {
   "cell_type": "code",
   "execution_count": 14,
   "metadata": {},
   "outputs": [
    {
     "name": "stdout",
     "output_type": "stream",
     "text": [
      "@PGMoraisPG @HelemAzevedo \"Jornalista\";\n",
      "PARA DE FALAR MAL DO LULA AGORA MESMO VOCÊ É BURRA LIXO CALA A BOCA\n",
      "@CostaGesuel 👏👏👏👏👏👏👏. Parabéns para jornalista, deu resposta para Anita, que a única coisa que tem naquela mente idiota, burra, é o bumbum, o pior que a juventude hoje não tem mais educação por culpa do PT, não tem mais discernimento para reconhecer o melhor para seu futuro.\n",
      "@JovemPanNews Essa mulher nem sabe o que está falando kakaka.. jornalista burra da peste!\n",
      "@JovemPanNews não da pra escutar essa Sra Amanda ou ela é burra ou mau intencionada falar q o Jornalista Alan e foragido é piada ele  é exilado político sua burra\n",
      "futura jornalista e é burra desse jeito, se preserve https://t.co/SSJYQOHckD\n",
      "@jogoaberto @hevertonfutebol Imagine ser um jornalista, ser pago pra dar uma opinião e não ter a capacidade cognitiva de entender o que tá respondendo. O cara não entendeu nada que o petraglia disse e quer meter a banca. Mordem a isca muito fácil. Mídia do eixo é sempre muito burra, reflete os torcedores\n",
      "Todo dia é uma treta nessa rede social envolvendo política, cara. Esse país não tem paz. É cantora burra falando merda, é ex atleta racista, é jornalista falando da intimidade dos outros, pqp!!!!\n",
      "@FlorbelaEspanc5 @Denise87401709 É lógico e ainda a cretina da Maitê precisava falar essa merda pra um jornalista? VAI SER BURRA, HUMILHOU A ADRIANA. Cara, quando eu vejo uma falta de sensibilidade desse nível me dá um desânimo de relacionamento.\n"
     ]
    }
   ],
   "source": [
    "\"\"\"\n",
    "Source code from: https://twarc-project.readthedocs.io/en/latest/api/library/\n",
    "\"\"\"\n",
    "# Search for any tweets matching the query, Twitter API uses a boolean AND by default\n",
    "query = \"jornalista burra lang:pt -is:retweet\"\n",
    "# Specify the start time in UTC for the time period you want tweets fro\n",
    "start_time = datetime.datetime(2022, 6, 1, 0, 0, 0, 0, datetime.timezone.utc)\n",
    "# Specify the end time in UTC for the time period you want tweets from\n",
    "end_time = datetime.datetime(2022, 7, 1, 0, 0, 0, 0, datetime.timezone.utc)\n",
    "\n",
    "# 'search_results' is a generator, 'max_results' is max tweets per page, 100 max for full archive search with all expansions\n",
    "search_results = client.search_all(query=query, start_time=start_time, end_time=end_time, max_results=10)\n",
    "\n",
    "tweets_list = []\n",
    "# Get all results page by page:\n",
    "for page in search_results:\n",
    "    # Flatten results returning 1 tweet at a time, with expansions inline:\n",
    "    for tweet in ensure_flattened(page):\n",
    "        # Append tweets to empty list\n",
    "        tweets_list.append(tweet)\n",
    "        print(tweet['text'])\n",
    "    # Get only one page for testing purposes\n",
    "    break"
   ]
  },
  {
   "cell_type": "markdown",
   "metadata": {},
   "source": [
    "### Process data"
   ]
  },
  {
   "cell_type": "code",
   "execution_count": 15,
   "metadata": {},
   "outputs": [
    {
     "data": {
      "text/plain": [
       "0    @PGMoraisPG @HelemAzevedo \"Jornalista\";\\nPARA ...\n",
       "1    @CostaGesuel 👏👏👏👏👏👏👏. Parabéns para jornalista...\n",
       "2    @JovemPanNews Essa mulher nem sabe o que está ...\n",
       "3    @JovemPanNews não da pra escutar essa Sra Aman...\n",
       "4    futura jornalista e é burra desse jeito, se pr...\n",
       "5    @jogoaberto @hevertonfutebol Imagine ser um jo...\n",
       "6    Todo dia é uma treta nessa rede social envolve...\n",
       "7    @FlorbelaEspanc5 @Denise87401709 É lógico e ai...\n",
       "Name: text, dtype: object"
      ]
     },
     "execution_count": 15,
     "metadata": {},
     "output_type": "execute_result"
    }
   ],
   "source": [
    "# Convert json data to pandas dataframe\n",
    "# TODO: Process columns with json dictionaries e.g: public_metrics\n",
    "tweets_df = pd.DataFrame(tweets_list)\n",
    "# Normalize semi-structured JSON data into a flat table\n",
    "public_metrics = pd.json_normalize(tweets_df['public_metrics'])\n",
    "# Concatenate daaframes\n",
    "tweets_df = pd.concat([tweets_df, public_metrics], axis=1)\n",
    "# Show dataframe\n",
    "tweets_df['text']"
   ]
  }
 ],
 "metadata": {
  "kernelspec": {
   "display_name": "Python 3.8.10 ('attack_detector-WWidxv8W')",
   "language": "python",
   "name": "python3"
  },
  "language_info": {
   "codemirror_mode": {
    "name": "ipython",
    "version": 3
   },
   "file_extension": ".py",
   "mimetype": "text/x-python",
   "name": "python",
   "nbconvert_exporter": "python",
   "pygments_lexer": "ipython3",
   "version": "3.8.10"
  },
  "orig_nbformat": 4,
  "vscode": {
   "interpreter": {
    "hash": "afa7c3ba8886ddf53ab8e4d3b531da4cfa0e8605527ab28372c0cfbdd63fd184"
   }
  }
 },
 "nbformat": 4,
 "nbformat_minor": 2
}
